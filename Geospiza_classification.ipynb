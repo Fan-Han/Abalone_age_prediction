{
 "cells": [
  {
   "cell_type": "markdown",
   "metadata": {},
   "source": [
    "## Identification of Geospiza in Darwin's finches  \n",
    "* Data source: Issues and perspectives in species delimitation using phenotypic data: Atlantean evolution in Darwin's finches. Cadena CD, Zapata F, Jiménez I. https://www.datadryad.org/handle/10255/dryad.155375  \n",
    "* Date Published: September 1, 2017  \n",
    "* Classify the species of Geosipiza based on 6 phenotypic measurements and sampling islands"
   ]
  },
  {
   "cell_type": "markdown",
   "metadata": {},
   "source": [
    "### Load the data and extract informative features"
   ]
  },
  {
   "cell_type": "code",
   "execution_count": 2,
   "metadata": {},
   "outputs": [],
   "source": [
    "# Load libraries\n",
    "import sys\n",
    "import warnings\n",
    "warnings.filterwarnings('ignore')\n",
    "import pandas as pd\n",
    "import numpy as np\n",
    "import matplotlib.pyplot as plt\n",
    "from sklearn.pipeline import Pipeline\n",
    "from sklearn.preprocessing import Normalizer\n",
    "from sklearn.preprocessing import OneHotEncoder\n",
    "from sklearn.compose import ColumnTransformer\n",
    "from sklearn.model_selection import train_test_split\n",
    "from sklearn.tree import DecisionTreeClassifier\n",
    "from sklearn.metrics import confusion_matrix\n",
    "from sklearn.utils.multiclass import unique_labels\n",
    "from sklearn.metrics import accuracy_score\n",
    "from sklearn.model_selection import cross_val_score\n",
    "from sklearn.ensemble import RandomForestClassifier"
   ]
  },
  {
   "cell_type": "code",
   "execution_count": 3,
   "metadata": {},
   "outputs": [
    {
     "data": {
      "text/html": [
       "<div>\n",
       "<style scoped>\n",
       "    .dataframe tbody tr th:only-of-type {\n",
       "        vertical-align: middle;\n",
       "    }\n",
       "\n",
       "    .dataframe tbody tr th {\n",
       "        vertical-align: top;\n",
       "    }\n",
       "\n",
       "    .dataframe thead th {\n",
       "        text-align: right;\n",
       "    }\n",
       "</style>\n",
       "<table border=\"1\" class=\"dataframe\">\n",
       "  <thead>\n",
       "    <tr style=\"text-align: right;\">\n",
       "      <th></th>\n",
       "      <th>Taxon</th>\n",
       "      <th>Institution</th>\n",
       "      <th>Museum No.</th>\n",
       "      <th>Island</th>\n",
       "      <th>Taxon-Island</th>\n",
       "      <th>New_Taxonomy</th>\n",
       "      <th>New_Taxonomy_Island</th>\n",
       "      <th>Sex</th>\n",
       "      <th>Wing</th>\n",
       "      <th>Tail</th>\n",
       "      <th>Blength</th>\n",
       "      <th>Bdepth</th>\n",
       "      <th>Bwidth</th>\n",
       "      <th>Tarsus</th>\n",
       "    </tr>\n",
       "  </thead>\n",
       "  <tbody>\n",
       "    <tr>\n",
       "      <th>0</th>\n",
       "      <td>G. conirostris</td>\n",
       "      <td>Rotheschild Mus.</td>\n",
       "      <td>1916.0</td>\n",
       "      <td>Darwin</td>\n",
       "      <td>conirostrisDarwin</td>\n",
       "      <td>G. propinqua</td>\n",
       "      <td>propinquaDarwin</td>\n",
       "      <td>Male</td>\n",
       "      <td>78.2</td>\n",
       "      <td>46.0</td>\n",
       "      <td>19.5</td>\n",
       "      <td>14.0</td>\n",
       "      <td>11.0</td>\n",
       "      <td>25.2</td>\n",
       "    </tr>\n",
       "    <tr>\n",
       "      <th>1</th>\n",
       "      <td>G. conirostris</td>\n",
       "      <td>Rotheschild Mus.</td>\n",
       "      <td>1918.0</td>\n",
       "      <td>Darwin</td>\n",
       "      <td>conirostrisDarwin</td>\n",
       "      <td>G. propinqua</td>\n",
       "      <td>propinquaDarwin</td>\n",
       "      <td>Male</td>\n",
       "      <td>81.5</td>\n",
       "      <td>53.0</td>\n",
       "      <td>22.2</td>\n",
       "      <td>17.2</td>\n",
       "      <td>13.5</td>\n",
       "      <td>26.5</td>\n",
       "    </tr>\n",
       "    <tr>\n",
       "      <th>2</th>\n",
       "      <td>G. conirostris</td>\n",
       "      <td>Rotheschild Mus.</td>\n",
       "      <td>1931.0</td>\n",
       "      <td>Darwin</td>\n",
       "      <td>conirostrisDarwin</td>\n",
       "      <td>G. propinqua</td>\n",
       "      <td>propinquaDarwin</td>\n",
       "      <td>Male</td>\n",
       "      <td>81.0</td>\n",
       "      <td>49.5</td>\n",
       "      <td>21.2</td>\n",
       "      <td>16.2</td>\n",
       "      <td>12.2</td>\n",
       "      <td>23.5</td>\n",
       "    </tr>\n",
       "    <tr>\n",
       "      <th>3</th>\n",
       "      <td>G. conirostris</td>\n",
       "      <td>Rotheschild Mus.</td>\n",
       "      <td>NaN</td>\n",
       "      <td>Darwin</td>\n",
       "      <td>conirostrisDarwin</td>\n",
       "      <td>G. propinqua</td>\n",
       "      <td>propinquaDarwin</td>\n",
       "      <td>Male</td>\n",
       "      <td>78.0</td>\n",
       "      <td>48.8</td>\n",
       "      <td>20.0</td>\n",
       "      <td>14.2</td>\n",
       "      <td>11.0</td>\n",
       "      <td>25.2</td>\n",
       "    </tr>\n",
       "    <tr>\n",
       "      <th>4</th>\n",
       "      <td>G. conirostris</td>\n",
       "      <td>Rotheschild Mus.</td>\n",
       "      <td>1930.0</td>\n",
       "      <td>Darwin</td>\n",
       "      <td>conirostrisDarwin</td>\n",
       "      <td>G. propinqua</td>\n",
       "      <td>propinquaDarwin</td>\n",
       "      <td>Male</td>\n",
       "      <td>84.0</td>\n",
       "      <td>53.2</td>\n",
       "      <td>22.2</td>\n",
       "      <td>19.5</td>\n",
       "      <td>14.0</td>\n",
       "      <td>24.5</td>\n",
       "    </tr>\n",
       "  </tbody>\n",
       "</table>\n",
       "</div>"
      ],
      "text/plain": [
       "            Taxon       Institution  Museum No.  Island       Taxon-Island  \\\n",
       "0  G. conirostris  Rotheschild Mus.      1916.0  Darwin  conirostrisDarwin   \n",
       "1  G. conirostris  Rotheschild Mus.      1918.0  Darwin  conirostrisDarwin   \n",
       "2  G. conirostris  Rotheschild Mus.      1931.0  Darwin  conirostrisDarwin   \n",
       "3  G. conirostris  Rotheschild Mus.         NaN  Darwin  conirostrisDarwin   \n",
       "4  G. conirostris  Rotheschild Mus.      1930.0  Darwin  conirostrisDarwin   \n",
       "\n",
       "   New_Taxonomy New_Taxonomy_Island   Sex  Wing  Tail  Blength  Bdepth  \\\n",
       "0  G. propinqua     propinquaDarwin  Male  78.2  46.0     19.5    14.0   \n",
       "1  G. propinqua     propinquaDarwin  Male  81.5  53.0     22.2    17.2   \n",
       "2  G. propinqua     propinquaDarwin  Male  81.0  49.5     21.2    16.2   \n",
       "3  G. propinqua     propinquaDarwin  Male  78.0  48.8     20.0    14.2   \n",
       "4  G. propinqua     propinquaDarwin  Male  84.0  53.2     22.2    19.5   \n",
       "\n",
       "   Bwidth  Tarsus  \n",
       "0    11.0    25.2  \n",
       "1    13.5    26.5  \n",
       "2    12.2    23.5  \n",
       "3    11.0    25.2  \n",
       "4    14.0    24.5  "
      ]
     },
     "execution_count": 3,
     "metadata": {},
     "output_type": "execute_result"
    }
   ],
   "source": [
    "# Read data\n",
    "mydata = pd.read_csv(\"Dataset/Geospiza.csv\", sep = \",\", header = 0)\n",
    "mydata.head()"
   ]
  },
  {
   "cell_type": "code",
   "execution_count": 4,
   "metadata": {},
   "outputs": [
    {
     "data": {
      "text/html": [
       "<div>\n",
       "<style scoped>\n",
       "    .dataframe tbody tr th:only-of-type {\n",
       "        vertical-align: middle;\n",
       "    }\n",
       "\n",
       "    .dataframe tbody tr th {\n",
       "        vertical-align: top;\n",
       "    }\n",
       "\n",
       "    .dataframe thead th {\n",
       "        text-align: right;\n",
       "    }\n",
       "</style>\n",
       "<table border=\"1\" class=\"dataframe\">\n",
       "  <thead>\n",
       "    <tr style=\"text-align: right;\">\n",
       "      <th></th>\n",
       "      <th>Museum No.</th>\n",
       "      <th>Wing</th>\n",
       "      <th>Tail</th>\n",
       "      <th>Blength</th>\n",
       "      <th>Bdepth</th>\n",
       "      <th>Bwidth</th>\n",
       "      <th>Tarsus</th>\n",
       "    </tr>\n",
       "  </thead>\n",
       "  <tbody>\n",
       "    <tr>\n",
       "      <th>count</th>\n",
       "      <td>485.000000</td>\n",
       "      <td>486.000000</td>\n",
       "      <td>486.000000</td>\n",
       "      <td>486.000000</td>\n",
       "      <td>486.000000</td>\n",
       "      <td>486.000000</td>\n",
       "      <td>486.000000</td>\n",
       "    </tr>\n",
       "    <tr>\n",
       "      <th>mean</th>\n",
       "      <td>5903.779381</td>\n",
       "      <td>69.574280</td>\n",
       "      <td>42.902881</td>\n",
       "      <td>16.189095</td>\n",
       "      <td>11.350206</td>\n",
       "      <td>9.009877</td>\n",
       "      <td>21.628807</td>\n",
       "    </tr>\n",
       "    <tr>\n",
       "      <th>std</th>\n",
       "      <td>3466.470112</td>\n",
       "      <td>6.613929</td>\n",
       "      <td>4.356102</td>\n",
       "      <td>3.660385</td>\n",
       "      <td>3.892158</td>\n",
       "      <td>2.703191</td>\n",
       "      <td>1.969288</td>\n",
       "    </tr>\n",
       "    <tr>\n",
       "      <th>min</th>\n",
       "      <td>104.000000</td>\n",
       "      <td>55.200000</td>\n",
       "      <td>33.500000</td>\n",
       "      <td>10.000000</td>\n",
       "      <td>6.200000</td>\n",
       "      <td>5.500000</td>\n",
       "      <td>17.000000</td>\n",
       "    </tr>\n",
       "    <tr>\n",
       "      <th>25%</th>\n",
       "      <td>5195.000000</td>\n",
       "      <td>64.000000</td>\n",
       "      <td>39.500000</td>\n",
       "      <td>12.500000</td>\n",
       "      <td>8.200000</td>\n",
       "      <td>7.000000</td>\n",
       "      <td>20.000000</td>\n",
       "    </tr>\n",
       "    <tr>\n",
       "      <th>50%</th>\n",
       "      <td>5409.000000</td>\n",
       "      <td>70.000000</td>\n",
       "      <td>42.500000</td>\n",
       "      <td>16.000000</td>\n",
       "      <td>10.000000</td>\n",
       "      <td>8.200000</td>\n",
       "      <td>21.500000</td>\n",
       "    </tr>\n",
       "    <tr>\n",
       "      <th>75%</th>\n",
       "      <td>5945.000000</td>\n",
       "      <td>73.000000</td>\n",
       "      <td>45.500000</td>\n",
       "      <td>18.500000</td>\n",
       "      <td>13.200000</td>\n",
       "      <td>10.200000</td>\n",
       "      <td>23.000000</td>\n",
       "    </tr>\n",
       "    <tr>\n",
       "      <th>max</th>\n",
       "      <td>37932.000000</td>\n",
       "      <td>86.500000</td>\n",
       "      <td>57.500000</td>\n",
       "      <td>26.000000</td>\n",
       "      <td>23.000000</td>\n",
       "      <td>17.000000</td>\n",
       "      <td>26.500000</td>\n",
       "    </tr>\n",
       "  </tbody>\n",
       "</table>\n",
       "</div>"
      ],
      "text/plain": [
       "         Museum No.        Wing        Tail     Blength      Bdepth  \\\n",
       "count    485.000000  486.000000  486.000000  486.000000  486.000000   \n",
       "mean    5903.779381   69.574280   42.902881   16.189095   11.350206   \n",
       "std     3466.470112    6.613929    4.356102    3.660385    3.892158   \n",
       "min      104.000000   55.200000   33.500000   10.000000    6.200000   \n",
       "25%     5195.000000   64.000000   39.500000   12.500000    8.200000   \n",
       "50%     5409.000000   70.000000   42.500000   16.000000   10.000000   \n",
       "75%     5945.000000   73.000000   45.500000   18.500000   13.200000   \n",
       "max    37932.000000   86.500000   57.500000   26.000000   23.000000   \n",
       "\n",
       "           Bwidth      Tarsus  \n",
       "count  486.000000  486.000000  \n",
       "mean     9.009877   21.628807  \n",
       "std      2.703191    1.969288  \n",
       "min      5.500000   17.000000  \n",
       "25%      7.000000   20.000000  \n",
       "50%      8.200000   21.500000  \n",
       "75%     10.200000   23.000000  \n",
       "max     17.000000   26.500000  "
      ]
     },
     "execution_count": 4,
     "metadata": {},
     "output_type": "execute_result"
    }
   ],
   "source": [
    "# Summarize the data\n",
    "mydata.describe()"
   ]
  },
  {
   "cell_type": "code",
   "execution_count": 5,
   "metadata": {},
   "outputs": [
    {
     "data": {
      "text/plain": [
       "Santa Cruz       50\n",
       "Santiago         48\n",
       "San Cristobal    45\n",
       "Pinta            40\n",
       "Floreana         40\n",
       "Isabela          40\n",
       "Marchena         31\n",
       "Pinzon           25\n",
       "Darwin           23\n",
       "Genovesa         22\n",
       "Rabida           20\n",
       "Fernandina       20\n",
       "Santa Fe         20\n",
       "Espanola         20\n",
       "Wolf             12\n",
       "Baltra           10\n",
       "Daphne           10\n",
       "Gardner          10\n",
       "Name: Island, dtype: int64"
      ]
     },
     "execution_count": 5,
     "metadata": {},
     "output_type": "execute_result"
    }
   ],
   "source": [
    "# Count categorical variables\n",
    "mydata[\"Island\"].value_counts()"
   ]
  },
  {
   "cell_type": "code",
   "execution_count": 6,
   "metadata": {},
   "outputs": [
    {
     "data": {
      "text/plain": [
       "G. fortis             150\n",
       "G. fuliginosa         121\n",
       "G. scandens            72\n",
       "G. magnirostris        49\n",
       "G. difficilis          25\n",
       "G. septentrionalis     20\n",
       "G. conirostris         20\n",
       "G. propinqua           19\n",
       "G. acutirostris        10\n",
       "Name: New_Taxonomy, dtype: int64"
      ]
     },
     "execution_count": 6,
     "metadata": {},
     "output_type": "execute_result"
    }
   ],
   "source": [
    "# Count the number of instances in each class\n",
    "mydata[\"New_Taxonomy\"].value_counts()"
   ]
  },
  {
   "cell_type": "code",
   "execution_count": 7,
   "metadata": {},
   "outputs": [
    {
     "data": {
      "text/html": [
       "<div>\n",
       "<style scoped>\n",
       "    .dataframe tbody tr th:only-of-type {\n",
       "        vertical-align: middle;\n",
       "    }\n",
       "\n",
       "    .dataframe tbody tr th {\n",
       "        vertical-align: top;\n",
       "    }\n",
       "\n",
       "    .dataframe thead th {\n",
       "        text-align: right;\n",
       "    }\n",
       "</style>\n",
       "<table border=\"1\" class=\"dataframe\">\n",
       "  <thead>\n",
       "    <tr style=\"text-align: right;\">\n",
       "      <th>New_Taxonomy</th>\n",
       "      <th>G. acutirostris</th>\n",
       "      <th>G. conirostris</th>\n",
       "      <th>G. difficilis</th>\n",
       "      <th>G. fortis</th>\n",
       "      <th>G. fuliginosa</th>\n",
       "      <th>G. magnirostris</th>\n",
       "      <th>G. propinqua</th>\n",
       "      <th>G. scandens</th>\n",
       "      <th>G. septentrionalis</th>\n",
       "    </tr>\n",
       "    <tr>\n",
       "      <th>Island</th>\n",
       "      <th></th>\n",
       "      <th></th>\n",
       "      <th></th>\n",
       "      <th></th>\n",
       "      <th></th>\n",
       "      <th></th>\n",
       "      <th></th>\n",
       "      <th></th>\n",
       "      <th></th>\n",
       "    </tr>\n",
       "  </thead>\n",
       "  <tbody>\n",
       "    <tr>\n",
       "      <th>Baltra</th>\n",
       "      <td>0</td>\n",
       "      <td>0</td>\n",
       "      <td>0</td>\n",
       "      <td>10</td>\n",
       "      <td>0</td>\n",
       "      <td>0</td>\n",
       "      <td>0</td>\n",
       "      <td>0</td>\n",
       "      <td>0</td>\n",
       "    </tr>\n",
       "    <tr>\n",
       "      <th>Daphne</th>\n",
       "      <td>0</td>\n",
       "      <td>0</td>\n",
       "      <td>0</td>\n",
       "      <td>10</td>\n",
       "      <td>0</td>\n",
       "      <td>0</td>\n",
       "      <td>0</td>\n",
       "      <td>0</td>\n",
       "      <td>0</td>\n",
       "    </tr>\n",
       "    <tr>\n",
       "      <th>Darwin</th>\n",
       "      <td>0</td>\n",
       "      <td>0</td>\n",
       "      <td>0</td>\n",
       "      <td>0</td>\n",
       "      <td>0</td>\n",
       "      <td>3</td>\n",
       "      <td>10</td>\n",
       "      <td>0</td>\n",
       "      <td>10</td>\n",
       "    </tr>\n",
       "    <tr>\n",
       "      <th>Espanola</th>\n",
       "      <td>0</td>\n",
       "      <td>10</td>\n",
       "      <td>0</td>\n",
       "      <td>0</td>\n",
       "      <td>10</td>\n",
       "      <td>0</td>\n",
       "      <td>0</td>\n",
       "      <td>0</td>\n",
       "      <td>0</td>\n",
       "    </tr>\n",
       "    <tr>\n",
       "      <th>Fernandina</th>\n",
       "      <td>0</td>\n",
       "      <td>0</td>\n",
       "      <td>0</td>\n",
       "      <td>10</td>\n",
       "      <td>10</td>\n",
       "      <td>0</td>\n",
       "      <td>0</td>\n",
       "      <td>0</td>\n",
       "      <td>0</td>\n",
       "    </tr>\n",
       "    <tr>\n",
       "      <th>Floreana</th>\n",
       "      <td>0</td>\n",
       "      <td>0</td>\n",
       "      <td>0</td>\n",
       "      <td>20</td>\n",
       "      <td>10</td>\n",
       "      <td>0</td>\n",
       "      <td>0</td>\n",
       "      <td>10</td>\n",
       "      <td>0</td>\n",
       "    </tr>\n",
       "    <tr>\n",
       "      <th>Gardner</th>\n",
       "      <td>0</td>\n",
       "      <td>10</td>\n",
       "      <td>0</td>\n",
       "      <td>0</td>\n",
       "      <td>0</td>\n",
       "      <td>0</td>\n",
       "      <td>0</td>\n",
       "      <td>0</td>\n",
       "      <td>0</td>\n",
       "    </tr>\n",
       "    <tr>\n",
       "      <th>Genovesa</th>\n",
       "      <td>10</td>\n",
       "      <td>0</td>\n",
       "      <td>0</td>\n",
       "      <td>0</td>\n",
       "      <td>0</td>\n",
       "      <td>3</td>\n",
       "      <td>9</td>\n",
       "      <td>0</td>\n",
       "      <td>0</td>\n",
       "    </tr>\n",
       "    <tr>\n",
       "      <th>Isabela</th>\n",
       "      <td>0</td>\n",
       "      <td>0</td>\n",
       "      <td>0</td>\n",
       "      <td>20</td>\n",
       "      <td>10</td>\n",
       "      <td>0</td>\n",
       "      <td>0</td>\n",
       "      <td>10</td>\n",
       "      <td>0</td>\n",
       "    </tr>\n",
       "    <tr>\n",
       "      <th>Marchena</th>\n",
       "      <td>0</td>\n",
       "      <td>0</td>\n",
       "      <td>0</td>\n",
       "      <td>10</td>\n",
       "      <td>9</td>\n",
       "      <td>4</td>\n",
       "      <td>0</td>\n",
       "      <td>8</td>\n",
       "      <td>0</td>\n",
       "    </tr>\n",
       "    <tr>\n",
       "      <th>Pinta</th>\n",
       "      <td>0</td>\n",
       "      <td>0</td>\n",
       "      <td>5</td>\n",
       "      <td>10</td>\n",
       "      <td>10</td>\n",
       "      <td>10</td>\n",
       "      <td>0</td>\n",
       "      <td>5</td>\n",
       "      <td>0</td>\n",
       "    </tr>\n",
       "    <tr>\n",
       "      <th>Pinzon</th>\n",
       "      <td>0</td>\n",
       "      <td>0</td>\n",
       "      <td>0</td>\n",
       "      <td>10</td>\n",
       "      <td>10</td>\n",
       "      <td>0</td>\n",
       "      <td>0</td>\n",
       "      <td>5</td>\n",
       "      <td>0</td>\n",
       "    </tr>\n",
       "    <tr>\n",
       "      <th>Rabida</th>\n",
       "      <td>0</td>\n",
       "      <td>0</td>\n",
       "      <td>0</td>\n",
       "      <td>0</td>\n",
       "      <td>5</td>\n",
       "      <td>10</td>\n",
       "      <td>0</td>\n",
       "      <td>5</td>\n",
       "      <td>0</td>\n",
       "    </tr>\n",
       "    <tr>\n",
       "      <th>San Cristobal</th>\n",
       "      <td>0</td>\n",
       "      <td>0</td>\n",
       "      <td>0</td>\n",
       "      <td>25</td>\n",
       "      <td>20</td>\n",
       "      <td>0</td>\n",
       "      <td>0</td>\n",
       "      <td>0</td>\n",
       "      <td>0</td>\n",
       "    </tr>\n",
       "    <tr>\n",
       "      <th>Santa Cruz</th>\n",
       "      <td>0</td>\n",
       "      <td>0</td>\n",
       "      <td>10</td>\n",
       "      <td>15</td>\n",
       "      <td>10</td>\n",
       "      <td>5</td>\n",
       "      <td>0</td>\n",
       "      <td>10</td>\n",
       "      <td>0</td>\n",
       "    </tr>\n",
       "    <tr>\n",
       "      <th>Santa Fe</th>\n",
       "      <td>0</td>\n",
       "      <td>0</td>\n",
       "      <td>0</td>\n",
       "      <td>0</td>\n",
       "      <td>10</td>\n",
       "      <td>0</td>\n",
       "      <td>0</td>\n",
       "      <td>10</td>\n",
       "      <td>0</td>\n",
       "    </tr>\n",
       "    <tr>\n",
       "      <th>Santiago</th>\n",
       "      <td>0</td>\n",
       "      <td>0</td>\n",
       "      <td>10</td>\n",
       "      <td>10</td>\n",
       "      <td>7</td>\n",
       "      <td>12</td>\n",
       "      <td>0</td>\n",
       "      <td>9</td>\n",
       "      <td>0</td>\n",
       "    </tr>\n",
       "    <tr>\n",
       "      <th>Wolf</th>\n",
       "      <td>0</td>\n",
       "      <td>0</td>\n",
       "      <td>0</td>\n",
       "      <td>0</td>\n",
       "      <td>0</td>\n",
       "      <td>2</td>\n",
       "      <td>0</td>\n",
       "      <td>0</td>\n",
       "      <td>10</td>\n",
       "    </tr>\n",
       "  </tbody>\n",
       "</table>\n",
       "</div>"
      ],
      "text/plain": [
       "New_Taxonomy   G. acutirostris  G. conirostris  G. difficilis  G. fortis  \\\n",
       "Island                                                                     \n",
       "Baltra                       0               0              0         10   \n",
       "Daphne                       0               0              0         10   \n",
       "Darwin                       0               0              0          0   \n",
       "Espanola                     0              10              0          0   \n",
       "Fernandina                   0               0              0         10   \n",
       "Floreana                     0               0              0         20   \n",
       "Gardner                      0              10              0          0   \n",
       "Genovesa                    10               0              0          0   \n",
       "Isabela                      0               0              0         20   \n",
       "Marchena                     0               0              0         10   \n",
       "Pinta                        0               0              5         10   \n",
       "Pinzon                       0               0              0         10   \n",
       "Rabida                       0               0              0          0   \n",
       "San Cristobal                0               0              0         25   \n",
       "Santa Cruz                   0               0             10         15   \n",
       "Santa Fe                     0               0              0          0   \n",
       "Santiago                     0               0             10         10   \n",
       "Wolf                         0               0              0          0   \n",
       "\n",
       "New_Taxonomy   G. fuliginosa  G. magnirostris  G. propinqua  G. scandens  \\\n",
       "Island                                                                     \n",
       "Baltra                     0                0             0            0   \n",
       "Daphne                     0                0             0            0   \n",
       "Darwin                     0                3            10            0   \n",
       "Espanola                  10                0             0            0   \n",
       "Fernandina                10                0             0            0   \n",
       "Floreana                  10                0             0           10   \n",
       "Gardner                    0                0             0            0   \n",
       "Genovesa                   0                3             9            0   \n",
       "Isabela                   10                0             0           10   \n",
       "Marchena                   9                4             0            8   \n",
       "Pinta                     10               10             0            5   \n",
       "Pinzon                    10                0             0            5   \n",
       "Rabida                     5               10             0            5   \n",
       "San Cristobal             20                0             0            0   \n",
       "Santa Cruz                10                5             0           10   \n",
       "Santa Fe                  10                0             0           10   \n",
       "Santiago                   7               12             0            9   \n",
       "Wolf                       0                2             0            0   \n",
       "\n",
       "New_Taxonomy   G. septentrionalis  \n",
       "Island                             \n",
       "Baltra                          0  \n",
       "Daphne                          0  \n",
       "Darwin                         10  \n",
       "Espanola                        0  \n",
       "Fernandina                      0  \n",
       "Floreana                        0  \n",
       "Gardner                         0  \n",
       "Genovesa                        0  \n",
       "Isabela                         0  \n",
       "Marchena                        0  \n",
       "Pinta                           0  \n",
       "Pinzon                          0  \n",
       "Rabida                          0  \n",
       "San Cristobal                   0  \n",
       "Santa Cruz                      0  \n",
       "Santa Fe                        0  \n",
       "Santiago                        0  \n",
       "Wolf                           10  "
      ]
     },
     "execution_count": 7,
     "metadata": {},
     "output_type": "execute_result"
    }
   ],
   "source": [
    "# Better to also count the number of species on each island\n",
    "pd.crosstab(mydata.Island, mydata.New_Taxonomy)"
   ]
  },
  {
   "cell_type": "code",
   "execution_count": 8,
   "metadata": {},
   "outputs": [
    {
     "data": {
      "text/plain": [
       "(486, 8)"
      ]
     },
     "execution_count": 8,
     "metadata": {},
     "output_type": "execute_result"
    }
   ],
   "source": [
    "# Remove the uninformative features\n",
    "mydata0 = mydata.copy()\n",
    "mydata0 = mydata0.drop([\"Taxon\", \"Taxon-Island\", \"Institution\", \"Museum No.\", \"New_Taxonomy_Island\", \"Sex\"], axis = 1)\n",
    "mydata0.shape"
   ]
  },
  {
   "cell_type": "code",
   "execution_count": 9,
   "metadata": {},
   "outputs": [
    {
     "data": {
      "image/png": "[encoded data removed]",
      "text/plain": [
       "<Figure size 1800x720 with 6 Axes>"
      ]
     },
     "metadata": {
      "needs_background": "light"
     },
     "output_type": "display_data"
    }
   ],
   "source": [
    "# Distribution of the features\n",
    "mydata0.hist(bins=20, figsize=(25, 10))\n",
    "plt.show()"
   ]
  },
  {
   "cell_type": "code",
   "execution_count": 10,
   "metadata": {},
   "outputs": [
    {
     "data": {
      "text/plain": [
       "Island          0\n",
       "New_Taxonomy    0\n",
       "Wing            0\n",
       "Tail            0\n",
       "Blength         0\n",
       "Bdepth          0\n",
       "Bwidth          0\n",
       "Tarsus          0\n",
       "dtype: int64"
      ]
     },
     "execution_count": 10,
     "metadata": {},
     "output_type": "execute_result"
    }
   ],
   "source": [
    "# Check the empty values\n",
    "mydata0.isna().sum()"
   ]
  },
  {
   "cell_type": "markdown",
   "metadata": {},
   "source": [
    "### Split data to training and test sets  \n",
    "No obvious bias or outliers observed in the overview of the data. We can move on to further exploration after splitting the data."
   ]
  },
  {
   "cell_type": "code",
   "execution_count": 37,
   "metadata": {},
   "outputs": [
    {
     "ename": "TypeError",
     "evalue": "permutation() takes no keyword arguments",
     "output_type": "error",
     "traceback": [
      "\u001b[0;31m---------------------------------------------------------------------------\u001b[0m",
      "\u001b[0;31mTypeError\u001b[0m                                 Traceback (most recent call last)",
      "\u001b[0;32m<ipython-input-37-77a0c6fa0bf8>\u001b[0m in \u001b[0;36m<module>\u001b[0;34m\u001b[0m\n\u001b[1;32m      1\u001b[0m \u001b[0;31m# Randomize and split the data\u001b[0m\u001b[0;34m\u001b[0m\u001b[0;34m\u001b[0m\u001b[0;34m\u001b[0m\u001b[0m\n\u001b[0;32m----> 2\u001b[0;31m \u001b[0mrandom_index\u001b[0m \u001b[0;34m=\u001b[0m \u001b[0mnp\u001b[0m\u001b[0;34m.\u001b[0m\u001b[0mrandom\u001b[0m\u001b[0;34m.\u001b[0m\u001b[0mpermutation\u001b[0m\u001b[0;34m(\u001b[0m\u001b[0mmydata0\u001b[0m\u001b[0;34m.\u001b[0m\u001b[0mindex\u001b[0m\u001b[0;34m,\u001b[0m \u001b[0mrandom_state\u001b[0m\u001b[0;34m=\u001b[0m\u001b[0;36m42\u001b[0m\u001b[0;34m)\u001b[0m\u001b[0;34m\u001b[0m\u001b[0;34m\u001b[0m\u001b[0m\n\u001b[0m\u001b[1;32m      3\u001b[0m \u001b[0mdata_shuffled\u001b[0m \u001b[0;34m=\u001b[0m \u001b[0mmydata0\u001b[0m\u001b[0;34m.\u001b[0m\u001b[0mreindex\u001b[0m\u001b[0;34m(\u001b[0m\u001b[0mrandom_index\u001b[0m\u001b[0;34m)\u001b[0m\u001b[0;34m\u001b[0m\u001b[0;34m\u001b[0m\u001b[0m\n\u001b[1;32m      4\u001b[0m \u001b[0;34m\u001b[0m\u001b[0m\n\u001b[1;32m      5\u001b[0m \u001b[0mtrain\u001b[0m\u001b[0;34m,\u001b[0m \u001b[0mtest\u001b[0m \u001b[0;34m=\u001b[0m \u001b[0mtrain_test_split\u001b[0m\u001b[0;34m(\u001b[0m\u001b[0mdata_shuffled\u001b[0m\u001b[0;34m,\u001b[0m \u001b[0mtest_size\u001b[0m \u001b[0;34m=\u001b[0m \u001b[0;36m0.2\u001b[0m\u001b[0;34m,\u001b[0m \u001b[0mrandom_state\u001b[0m \u001b[0;34m=\u001b[0m \u001b[0;36m42\u001b[0m\u001b[0;34m)\u001b[0m\u001b[0;34m\u001b[0m\u001b[0;34m\u001b[0m\u001b[0m\n",
      "\u001b[0;31mTypeError\u001b[0m: permutation() takes no keyword arguments"
     ]
    }
   ],
   "source": [
    "# Randomize and split the data\n",
    "random_index = np.random.permutation(mydata0.index)\n",
    "data_shuffled = mydata0.reindex(random_index)\n",
    "\n",
    "train, test = train_test_split(data_shuffled, test_size = 0.2, random_state = 42)\n",
    "test.shape"
   ]
  },
  {
   "cell_type": "code",
   "execution_count": 12,
   "metadata": {},
   "outputs": [
    {
     "data": {
      "image/png": "[encoded data removed]",
      "text/plain": [
       "<Figure size 720x720 with 1 Axes>"
      ]
     },
     "metadata": {
      "needs_background": "light"
     },
     "output_type": "display_data"
    }
   ],
   "source": [
    "# Explore the correlations of the features\n",
    "train_tmp = train.copy()\n",
    "train_tmp = train_tmp.drop(\"New_Taxonomy\", axis = 1)\n",
    "corr_matrix = train_tmp.corr()\n",
    "fig = plt.figure(figsize=(10, 10))\n",
    "ax = fig.add_subplot(111)\n",
    "cax = ax.matshow(corr_matrix)\n",
    "ax.set_xticklabels([''] + train_tmp.columns)\n",
    "ax.set_yticklabels([''] + train_tmp.columns)\n",
    "\n",
    "plt.show()"
   ]
  },
  {
   "cell_type": "code",
   "execution_count": 13,
   "metadata": {},
   "outputs": [
    {
     "data": {
      "text/plain": [
       "Tarsus     1.000000\n",
       "Wing       0.887959\n",
       "Blength    0.833300\n",
       "Tail       0.806798\n",
       "Bwidth     0.766925\n",
       "Bdepth     0.750731\n",
       "Name: Tarsus, dtype: float64"
      ]
     },
     "execution_count": 13,
     "metadata": {},
     "output_type": "execute_result"
    }
   ],
   "source": [
    "corr_matrix[\"Tarsus\"].sort_values(ascending = False)"
   ]
  },
  {
   "cell_type": "markdown",
   "metadata": {},
   "source": [
    "From the correlation matrix above, we can tell beak depth and beak length are highly correlated. "
   ]
  },
  {
   "cell_type": "markdown",
   "metadata": {},
   "source": [
    "### Prepare the data for training"
   ]
  },
  {
   "cell_type": "code",
   "execution_count": 14,
   "metadata": {},
   "outputs": [
    {
     "data": {
      "text/plain": [
       "(98, 24)"
      ]
     },
     "execution_count": 14,
     "metadata": {},
     "output_type": "execute_result"
    }
   ],
   "source": [
    "# Separate label and features\n",
    "train_y = train[\"New_Taxonomy\"]\n",
    "train_X = train.drop(\"New_Taxonomy\", axis=1)\n",
    "train_X.shape\n",
    "\n",
    "test_y = test[\"New_Taxonomy\"]\n",
    "test_X = test.drop(\"New_Taxonomy\", axis = 1)\n",
    "test_X.head()\n",
    "\n",
    "# Convert categorical variables and scale the data\n",
    "pipeline = ColumnTransformer([\n",
    "  (\"numeric\", Normalizer(), list(train_X.drop(\"Island\", axis = 1))),\n",
    "  (\"categorical\", OneHotEncoder(), [\"Island\"])\n",
    "])\n",
    "\n",
    "# fit and transform training data\n",
    "train_X_input = pipeline.fit_transform(train_X)\n",
    "\n",
    "# Transform test data\n",
    "test_X_input = pipeline.transform(test_X)\n",
    "test_X_input.shape"
   ]
  },
  {
   "cell_type": "markdown",
   "metadata": {},
   "source": [
    "### Train the model and evaluate it\n",
    "#### A simple decision tree model"
   ]
  },
  {
   "cell_type": "code",
   "execution_count": 15,
   "metadata": {},
   "outputs": [
    {
     "data": {
      "image/png": "[encoded data removed]",
      "text/plain": [
       "<Figure size 720x720 with 2 Axes>"
      ]
     },
     "metadata": {
      "needs_background": "light"
     },
     "output_type": "display_data"
    },
    {
     "data": {
      "text/plain": [
       "0.826530612244898"
      ]
     },
     "execution_count": 15,
     "metadata": {},
     "output_type": "execute_result"
    }
   ],
   "source": [
    "# fit training data to the model\n",
    "dt = DecisionTreeClassifier(random_state=42, max_depth= 3)\n",
    "dt.fit(train_X_input, train_y)\n",
    "# predict the test data\n",
    "dt_test_y = dt.predict(test_X_input)\n",
    "# Genrate a confusion matrix\n",
    "def cm_plot(test_y, dt_test_y):\n",
    "  \"\"\"Make a heat map of the confusion matrix\"\"\"\n",
    "  classes = list(unique_labels(test_y, dt_test_y))\n",
    "  dt_test_y_cm = confusion_matrix(test_y, dt_test_y, labels=classes)\n",
    "  row_sum = dt_test_y_cm.sum(axis=1, keepdims = True)\n",
    "  norm_dt_test_y_cm = np.matrix.round(dt_test_y_cm/row_sum, 3)\n",
    "  #np.fill_diagonal(norm_dt_test_y_cm, 0)\n",
    "  # make a plot\n",
    "  fig = plt.figure(figsize=(10,10))\n",
    "  ax = fig.add_subplot(111)\n",
    "  cax = ax.matshow(norm_dt_test_y_cm)\n",
    "  fig.colorbar(cax)\n",
    "  ax.set_xticklabels([''] + classes)\n",
    "  ax.set_yticklabels([''] + classes)\n",
    "  plt.show()\n",
    "\n",
    "cm_plot(test_y, dt_test_y)\n",
    "# Accuracy\n",
    "dt_accuracy = accuracy_score(test_y, dt_test_y)\n",
    "dt_accuracy\n"
   ]
  },
  {
   "cell_type": "code",
   "execution_count": 16,
   "metadata": {},
   "outputs": [
    {
     "data": {
      "text/plain": [
       "0.81701732419032"
      ]
     },
     "execution_count": 16,
     "metadata": {},
     "output_type": "execute_result"
    }
   ],
   "source": [
    "# Evaluate the model\n",
    "cv = cross_val_score(dt, train_X_input, train_y, cv = 5, scoring=\"accuracy\")\n",
    "np.mean(cv)"
   ]
  },
  {
   "cell_type": "markdown",
   "metadata": {},
   "source": [
    "#### Random Forest model"
   ]
  },
  {
   "cell_type": "code",
   "execution_count": 17,
   "metadata": {},
   "outputs": [
    {
     "data": {
      "text/plain": [
       "RandomForestClassifier(bootstrap=True, class_weight=None, criterion='gini',\n",
       "            max_depth=None, max_features='auto', max_leaf_nodes=None,\n",
       "            min_impurity_decrease=0.0, min_impurity_split=None,\n",
       "            min_samples_leaf=1, min_samples_split=2,\n",
       "            min_weight_fraction_leaf=0.0, n_estimators=10, n_jobs=None,\n",
       "            oob_score=False, random_state=42, verbose=0, warm_start=False)"
      ]
     },
     "execution_count": 17,
     "metadata": {},
     "output_type": "execute_result"
    }
   ],
   "source": [
    "# fit model\n",
    "rf = RandomForestClassifier(random_state=42)\n",
    "rf.fit(train_X_input, train_y)"
   ]
  },
  {
   "cell_type": "code",
   "execution_count": 18,
   "metadata": {},
   "outputs": [
    {
     "data": {
      "text/plain": [
       "0.9693877551020408"
      ]
     },
     "execution_count": 18,
     "metadata": {},
     "output_type": "execute_result"
    }
   ],
   "source": [
    "# Predict the test data\n",
    "rf_test_y = rf.predict(test_X_input)\n",
    "rf_accuracy = accuracy_score(test_y, rf_test_y)\n",
    "rf_accuracy"
   ]
  },
  {
   "cell_type": "code",
   "execution_count": 19,
   "metadata": {},
   "outputs": [
    {
     "data": {
      "image/png": "[encoded data removed]",
      "text/plain": [
       "<Figure size 720x720 with 2 Axes>"
      ]
     },
     "metadata": {
      "needs_background": "light"
     },
     "output_type": "display_data"
    }
   ],
   "source": [
    "# Confusion matrix for random forest model\n",
    "cm_plot(test_y, rf_test_y)"
   ]
  },
  {
   "cell_type": "code",
   "execution_count": 20,
   "metadata": {},
   "outputs": [
    {
     "data": {
      "text/html": [
       "<div>\n",
       "<style scoped>\n",
       "    .dataframe tbody tr th:only-of-type {\n",
       "        vertical-align: middle;\n",
       "    }\n",
       "\n",
       "    .dataframe tbody tr th {\n",
       "        vertical-align: top;\n",
       "    }\n",
       "\n",
       "    .dataframe thead th {\n",
       "        text-align: right;\n",
       "    }\n",
       "</style>\n",
       "<table border=\"1\" class=\"dataframe\">\n",
       "  <thead>\n",
       "    <tr style=\"text-align: right;\">\n",
       "      <th></th>\n",
       "      <th>Feature_Importance</th>\n",
       "    </tr>\n",
       "  </thead>\n",
       "  <tbody>\n",
       "    <tr>\n",
       "      <th>Bdepth</th>\n",
       "      <td>0.003550</td>\n",
       "    </tr>\n",
       "    <tr>\n",
       "      <th>Wing</th>\n",
       "      <td>0.006566</td>\n",
       "    </tr>\n",
       "    <tr>\n",
       "      <th>Blength</th>\n",
       "      <td>0.007318</td>\n",
       "    </tr>\n",
       "    <tr>\n",
       "      <th>Bwidth</th>\n",
       "      <td>0.009360</td>\n",
       "    </tr>\n",
       "    <tr>\n",
       "      <th>Tail</th>\n",
       "      <td>0.010276</td>\n",
       "    </tr>\n",
       "    <tr>\n",
       "      <th>Tarsus</th>\n",
       "      <td>0.017455</td>\n",
       "    </tr>\n",
       "  </tbody>\n",
       "</table>\n",
       "</div>"
      ],
      "text/plain": [
       "         Feature_Importance\n",
       "Bdepth             0.003550\n",
       "Wing               0.006566\n",
       "Blength            0.007318\n",
       "Bwidth             0.009360\n",
       "Tail               0.010276\n",
       "Tarsus             0.017455"
      ]
     },
     "execution_count": 20,
     "metadata": {},
     "output_type": "execute_result"
    }
   ],
   "source": [
    "# Find the most important features\n",
    "rf_importance = rf.feature_importances_\n",
    "\n",
    "rf_importance = pd.DataFrame(rf_importance, \n",
    "             index = list(pipeline.transformers_[1][1].get_feature_names()) + pipeline.transformers_[0][2],\n",
    "            columns=[\"Feature_Importance\"]).sort_values(by = \"Feature_Importance\")\n",
    "rf_importance[~rf_importance.index.str.contains(\"x0\")]"
   ]
  },
  {
   "cell_type": "code",
   "execution_count": 21,
   "metadata": {},
   "outputs": [
    {
     "data": {
      "text/html": [
       "<div>\n",
       "<style scoped>\n",
       "    .dataframe tbody tr th:only-of-type {\n",
       "        vertical-align: middle;\n",
       "    }\n",
       "\n",
       "    .dataframe tbody tr th {\n",
       "        vertical-align: top;\n",
       "    }\n",
       "\n",
       "    .dataframe thead th {\n",
       "        text-align: right;\n",
       "    }\n",
       "</style>\n",
       "<table border=\"1\" class=\"dataframe\">\n",
       "  <thead>\n",
       "    <tr style=\"text-align: right;\">\n",
       "      <th></th>\n",
       "      <th>Feature_Importance</th>\n",
       "    </tr>\n",
       "  </thead>\n",
       "  <tbody>\n",
       "    <tr>\n",
       "      <th>x0_Gardner</th>\n",
       "      <td>0.000014</td>\n",
       "    </tr>\n",
       "    <tr>\n",
       "      <th>x0_Pinta</th>\n",
       "      <td>0.000963</td>\n",
       "    </tr>\n",
       "    <tr>\n",
       "      <th>x0_Santa Cruz</th>\n",
       "      <td>0.002921</td>\n",
       "    </tr>\n",
       "    <tr>\n",
       "      <th>x0_Santa Fe</th>\n",
       "      <td>0.003573</td>\n",
       "    </tr>\n",
       "    <tr>\n",
       "      <th>x0_Pinzon</th>\n",
       "      <td>0.004509</td>\n",
       "    </tr>\n",
       "    <tr>\n",
       "      <th>x0_Santiago</th>\n",
       "      <td>0.004584</td>\n",
       "    </tr>\n",
       "    <tr>\n",
       "      <th>x0_Wolf</th>\n",
       "      <td>0.004884</td>\n",
       "    </tr>\n",
       "    <tr>\n",
       "      <th>x0_Genovesa</th>\n",
       "      <td>0.008302</td>\n",
       "    </tr>\n",
       "    <tr>\n",
       "      <th>x0_Marchena</th>\n",
       "      <td>0.015872</td>\n",
       "    </tr>\n",
       "    <tr>\n",
       "      <th>x0_Rabida</th>\n",
       "      <td>0.019624</td>\n",
       "    </tr>\n",
       "    <tr>\n",
       "      <th>x0_San Cristobal</th>\n",
       "      <td>0.027020</td>\n",
       "    </tr>\n",
       "    <tr>\n",
       "      <th>x0_Isabela</th>\n",
       "      <td>0.030995</td>\n",
       "    </tr>\n",
       "    <tr>\n",
       "      <th>x0_Daphne</th>\n",
       "      <td>0.060996</td>\n",
       "    </tr>\n",
       "    <tr>\n",
       "      <th>x0_Baltra</th>\n",
       "      <td>0.066310</td>\n",
       "    </tr>\n",
       "    <tr>\n",
       "      <th>x0_Floreana</th>\n",
       "      <td>0.072639</td>\n",
       "    </tr>\n",
       "    <tr>\n",
       "      <th>x0_Fernandina</th>\n",
       "      <td>0.169869</td>\n",
       "    </tr>\n",
       "    <tr>\n",
       "      <th>x0_Espanola</th>\n",
       "      <td>0.184687</td>\n",
       "    </tr>\n",
       "    <tr>\n",
       "      <th>x0_Darwin</th>\n",
       "      <td>0.267712</td>\n",
       "    </tr>\n",
       "  </tbody>\n",
       "</table>\n",
       "</div>"
      ],
      "text/plain": [
       "                  Feature_Importance\n",
       "x0_Gardner                  0.000014\n",
       "x0_Pinta                    0.000963\n",
       "x0_Santa Cruz               0.002921\n",
       "x0_Santa Fe                 0.003573\n",
       "x0_Pinzon                   0.004509\n",
       "x0_Santiago                 0.004584\n",
       "x0_Wolf                     0.004884\n",
       "x0_Genovesa                 0.008302\n",
       "x0_Marchena                 0.015872\n",
       "x0_Rabida                   0.019624\n",
       "x0_San Cristobal            0.027020\n",
       "x0_Isabela                  0.030995\n",
       "x0_Daphne                   0.060996\n",
       "x0_Baltra                   0.066310\n",
       "x0_Floreana                 0.072639\n",
       "x0_Fernandina               0.169869\n",
       "x0_Espanola                 0.184687\n",
       "x0_Darwin                   0.267712"
      ]
     },
     "execution_count": 21,
     "metadata": {},
     "output_type": "execute_result"
    }
   ],
   "source": [
    "# Island importance\n",
    "rf_importance[rf_importance.index.str.contains(\"x0\")]"
   ]
  },
  {
   "cell_type": "code",
   "execution_count": 22,
   "metadata": {},
   "outputs": [
    {
     "data": {
      "text/html": [
       "<div>\n",
       "<style scoped>\n",
       "    .dataframe tbody tr th:only-of-type {\n",
       "        vertical-align: middle;\n",
       "    }\n",
       "\n",
       "    .dataframe tbody tr th {\n",
       "        vertical-align: top;\n",
       "    }\n",
       "\n",
       "    .dataframe thead th {\n",
       "        text-align: right;\n",
       "    }\n",
       "</style>\n",
       "<table border=\"1\" class=\"dataframe\">\n",
       "  <thead>\n",
       "    <tr style=\"text-align: right;\">\n",
       "      <th></th>\n",
       "      <th>Island</th>\n",
       "      <th>New_Taxonomy</th>\n",
       "      <th>Wing</th>\n",
       "      <th>Tail</th>\n",
       "      <th>Blength</th>\n",
       "      <th>Bdepth</th>\n",
       "      <th>Bwidth</th>\n",
       "      <th>Tarsus</th>\n",
       "    </tr>\n",
       "  </thead>\n",
       "  <tbody>\n",
       "    <tr>\n",
       "      <th>481</th>\n",
       "      <td>Gardner</td>\n",
       "      <td>G. conirostris</td>\n",
       "      <td>79.2</td>\n",
       "      <td>48.0</td>\n",
       "      <td>21.0</td>\n",
       "      <td>15.2</td>\n",
       "      <td>11.5</td>\n",
       "      <td>23.5</td>\n",
       "    </tr>\n",
       "    <tr>\n",
       "      <th>479</th>\n",
       "      <td>Gardner</td>\n",
       "      <td>G. conirostris</td>\n",
       "      <td>78.0</td>\n",
       "      <td>45.5</td>\n",
       "      <td>19.0</td>\n",
       "      <td>13.5</td>\n",
       "      <td>11.0</td>\n",
       "      <td>22.2</td>\n",
       "    </tr>\n",
       "    <tr>\n",
       "      <th>473</th>\n",
       "      <td>Espanola</td>\n",
       "      <td>G. conirostris</td>\n",
       "      <td>79.0</td>\n",
       "      <td>50.0</td>\n",
       "      <td>21.5</td>\n",
       "      <td>17.0</td>\n",
       "      <td>13.0</td>\n",
       "      <td>24.2</td>\n",
       "    </tr>\n",
       "    <tr>\n",
       "      <th>472</th>\n",
       "      <td>Espanola</td>\n",
       "      <td>G. conirostris</td>\n",
       "      <td>77.2</td>\n",
       "      <td>46.0</td>\n",
       "      <td>20.0</td>\n",
       "      <td>16.0</td>\n",
       "      <td>12.5</td>\n",
       "      <td>24.0</td>\n",
       "    </tr>\n",
       "    <tr>\n",
       "      <th>478</th>\n",
       "      <td>Gardner</td>\n",
       "      <td>G. conirostris</td>\n",
       "      <td>79.5</td>\n",
       "      <td>51.0</td>\n",
       "      <td>18.5</td>\n",
       "      <td>14.0</td>\n",
       "      <td>11.0</td>\n",
       "      <td>22.5</td>\n",
       "    </tr>\n",
       "    <tr>\n",
       "      <th>475</th>\n",
       "      <td>Espanola</td>\n",
       "      <td>G. conirostris</td>\n",
       "      <td>76.0</td>\n",
       "      <td>47.0</td>\n",
       "      <td>21.0</td>\n",
       "      <td>15.8</td>\n",
       "      <td>11.0</td>\n",
       "      <td>22.5</td>\n",
       "    </tr>\n",
       "    <tr>\n",
       "      <th>483</th>\n",
       "      <td>Gardner</td>\n",
       "      <td>G. conirostris</td>\n",
       "      <td>79.0</td>\n",
       "      <td>45.8</td>\n",
       "      <td>20.0</td>\n",
       "      <td>15.2</td>\n",
       "      <td>11.2</td>\n",
       "      <td>23.2</td>\n",
       "    </tr>\n",
       "    <tr>\n",
       "      <th>471</th>\n",
       "      <td>Espanola</td>\n",
       "      <td>G. conirostris</td>\n",
       "      <td>77.0</td>\n",
       "      <td>44.5</td>\n",
       "      <td>21.0</td>\n",
       "      <td>15.2</td>\n",
       "      <td>11.8</td>\n",
       "      <td>23.0</td>\n",
       "    </tr>\n",
       "    <tr>\n",
       "      <th>480</th>\n",
       "      <td>Gardner</td>\n",
       "      <td>G. conirostris</td>\n",
       "      <td>75.2</td>\n",
       "      <td>45.5</td>\n",
       "      <td>19.8</td>\n",
       "      <td>15.5</td>\n",
       "      <td>11.2</td>\n",
       "      <td>23.0</td>\n",
       "    </tr>\n",
       "    <tr>\n",
       "      <th>469</th>\n",
       "      <td>Espanola</td>\n",
       "      <td>G. conirostris</td>\n",
       "      <td>80.8</td>\n",
       "      <td>51.8</td>\n",
       "      <td>22.0</td>\n",
       "      <td>18.0</td>\n",
       "      <td>13.0</td>\n",
       "      <td>24.0</td>\n",
       "    </tr>\n",
       "  </tbody>\n",
       "</table>\n",
       "</div>"
      ],
      "text/plain": [
       "       Island    New_Taxonomy  Wing  Tail  Blength  Bdepth  Bwidth  Tarsus\n",
       "481   Gardner  G. conirostris  79.2  48.0     21.0    15.2    11.5    23.5\n",
       "479   Gardner  G. conirostris  78.0  45.5     19.0    13.5    11.0    22.2\n",
       "473  Espanola  G. conirostris  79.0  50.0     21.5    17.0    13.0    24.2\n",
       "472  Espanola  G. conirostris  77.2  46.0     20.0    16.0    12.5    24.0\n",
       "478   Gardner  G. conirostris  79.5  51.0     18.5    14.0    11.0    22.5\n",
       "475  Espanola  G. conirostris  76.0  47.0     21.0    15.8    11.0    22.5\n",
       "483   Gardner  G. conirostris  79.0  45.8     20.0    15.2    11.2    23.2\n",
       "471  Espanola  G. conirostris  77.0  44.5     21.0    15.2    11.8    23.0\n",
       "480   Gardner  G. conirostris  75.2  45.5     19.8    15.5    11.2    23.0\n",
       "469  Espanola  G. conirostris  80.8  51.8     22.0    18.0    13.0    24.0"
      ]
     },
     "execution_count": 22,
     "metadata": {},
     "output_type": "execute_result"
    }
   ],
   "source": [
    "# We can do predictions on some examples\n",
    "#example = mydata0.sample(n = 1, axis = 0)\n",
    "example = mydata0[mydata0.New_Taxonomy == \"G. conirostris\"].sample(n = 10, axis = 0)\n",
    "example"
   ]
  },
  {
   "cell_type": "code",
   "execution_count": 23,
   "metadata": {},
   "outputs": [
    {
     "data": {
      "text/plain": [
       "array(['G. conirostris', 'G. conirostris', 'G. conirostris',\n",
       "       'G. conirostris', 'G. conirostris', 'G. conirostris',\n",
       "       'G. conirostris', 'G. conirostris', 'G. conirostris',\n",
       "       'G. conirostris'], dtype=object)"
      ]
     },
     "execution_count": 23,
     "metadata": {},
     "output_type": "execute_result"
    }
   ],
   "source": [
    "example_input = pipeline.transform(example.drop(\"New_Taxonomy\", axis = 1))\n",
    "rf.predict(example_input)"
   ]
  },
  {
   "cell_type": "markdown",
   "metadata": {},
   "source": [
    "### Without island information\n",
    "From the importance rank, I noticed that the feature of sampling island played a critical role in this classfification. This is because most species are only habiting on limited number of islands. I will have a go without island information."
   ]
  },
  {
   "cell_type": "code",
   "execution_count": 24,
   "metadata": {},
   "outputs": [
    {
     "data": {
      "text/html": [
       "<div>\n",
       "<style scoped>\n",
       "    .dataframe tbody tr th:only-of-type {\n",
       "        vertical-align: middle;\n",
       "    }\n",
       "\n",
       "    .dataframe tbody tr th {\n",
       "        vertical-align: top;\n",
       "    }\n",
       "\n",
       "    .dataframe thead th {\n",
       "        text-align: right;\n",
       "    }\n",
       "</style>\n",
       "<table border=\"1\" class=\"dataframe\">\n",
       "  <thead>\n",
       "    <tr style=\"text-align: right;\">\n",
       "      <th></th>\n",
       "      <th>Wing</th>\n",
       "      <th>Tail</th>\n",
       "      <th>Blength</th>\n",
       "      <th>Bdepth</th>\n",
       "      <th>Bwidth</th>\n",
       "      <th>Tarsus</th>\n",
       "    </tr>\n",
       "  </thead>\n",
       "  <tbody>\n",
       "    <tr>\n",
       "      <th>count</th>\n",
       "      <td>388.000000</td>\n",
       "      <td>388.000000</td>\n",
       "      <td>388.000000</td>\n",
       "      <td>388.000000</td>\n",
       "      <td>388.000000</td>\n",
       "      <td>388.000000</td>\n",
       "    </tr>\n",
       "    <tr>\n",
       "      <th>mean</th>\n",
       "      <td>69.597938</td>\n",
       "      <td>42.885309</td>\n",
       "      <td>16.253866</td>\n",
       "      <td>11.297423</td>\n",
       "      <td>8.981959</td>\n",
       "      <td>21.684278</td>\n",
       "    </tr>\n",
       "    <tr>\n",
       "      <th>std</th>\n",
       "      <td>6.582075</td>\n",
       "      <td>4.331558</td>\n",
       "      <td>3.634775</td>\n",
       "      <td>3.897192</td>\n",
       "      <td>2.694349</td>\n",
       "      <td>1.970305</td>\n",
       "    </tr>\n",
       "    <tr>\n",
       "      <th>min</th>\n",
       "      <td>55.200000</td>\n",
       "      <td>33.500000</td>\n",
       "      <td>10.000000</td>\n",
       "      <td>6.200000</td>\n",
       "      <td>5.800000</td>\n",
       "      <td>17.000000</td>\n",
       "    </tr>\n",
       "    <tr>\n",
       "      <th>25%</th>\n",
       "      <td>64.000000</td>\n",
       "      <td>39.500000</td>\n",
       "      <td>13.000000</td>\n",
       "      <td>8.200000</td>\n",
       "      <td>7.000000</td>\n",
       "      <td>20.000000</td>\n",
       "    </tr>\n",
       "    <tr>\n",
       "      <th>50%</th>\n",
       "      <td>70.000000</td>\n",
       "      <td>42.500000</td>\n",
       "      <td>16.200000</td>\n",
       "      <td>10.000000</td>\n",
       "      <td>8.000000</td>\n",
       "      <td>21.500000</td>\n",
       "    </tr>\n",
       "    <tr>\n",
       "      <th>75%</th>\n",
       "      <td>73.000000</td>\n",
       "      <td>45.500000</td>\n",
       "      <td>18.500000</td>\n",
       "      <td>13.000000</td>\n",
       "      <td>10.050000</td>\n",
       "      <td>23.000000</td>\n",
       "    </tr>\n",
       "    <tr>\n",
       "      <th>max</th>\n",
       "      <td>86.500000</td>\n",
       "      <td>57.500000</td>\n",
       "      <td>26.000000</td>\n",
       "      <td>23.000000</td>\n",
       "      <td>17.000000</td>\n",
       "      <td>26.500000</td>\n",
       "    </tr>\n",
       "  </tbody>\n",
       "</table>\n",
       "</div>"
      ],
      "text/plain": [
       "             Wing        Tail     Blength      Bdepth      Bwidth      Tarsus\n",
       "count  388.000000  388.000000  388.000000  388.000000  388.000000  388.000000\n",
       "mean    69.597938   42.885309   16.253866   11.297423    8.981959   21.684278\n",
       "std      6.582075    4.331558    3.634775    3.897192    2.694349    1.970305\n",
       "min     55.200000   33.500000   10.000000    6.200000    5.800000   17.000000\n",
       "25%     64.000000   39.500000   13.000000    8.200000    7.000000   20.000000\n",
       "50%     70.000000   42.500000   16.200000   10.000000    8.000000   21.500000\n",
       "75%     73.000000   45.500000   18.500000   13.000000   10.050000   23.000000\n",
       "max     86.500000   57.500000   26.000000   23.000000   17.000000   26.500000"
      ]
     },
     "execution_count": 24,
     "metadata": {},
     "output_type": "execute_result"
    }
   ],
   "source": [
    "# re-preprocessing the features\n",
    "train_X1 = train_X.drop(\"Island\", axis=1)\n",
    "test_X1 = test_X.drop(\"Island\", axis=1)\n",
    "\n",
    "pipeline1 = ColumnTransformer([\n",
    "  (\"num\", Normalizer(), list(train_X1))\n",
    "   ])\n",
    "\n",
    "train_X1_input = pipeline1.fit_transform(train_X1)\n",
    "test_X1_input = pipeline1.transform(test_X1)\n",
    "\n",
    "train_X1.describe()"
   ]
  },
  {
   "cell_type": "markdown",
   "metadata": {},
   "source": [
    "#### Random Forest "
   ]
  },
  {
   "cell_type": "code",
   "execution_count": 25,
   "metadata": {},
   "outputs": [
    {
     "data": {
      "text/plain": [
       "0.8061224489795918"
      ]
     },
     "execution_count": 25,
     "metadata": {},
     "output_type": "execute_result"
    }
   ],
   "source": [
    "# Random Forest model on data without island\n",
    "rf1 = RandomForestClassifier(random_state=42)\n",
    "rf1.fit(train_X1_input, train_y)\n",
    "\n",
    "# predict the test set\n",
    "rf1_test_y = rf1.predict(test_X1_input)\n",
    "rf1_accuracy = accuracy_score(test_y, rf1_test_y)\n",
    "rf1_accuracy"
   ]
  },
  {
   "cell_type": "code",
   "execution_count": 26,
   "metadata": {},
   "outputs": [
    {
     "name": "stderr",
     "output_type": "stream",
     "text": [
      "/anaconda3/lib/python3.7/site-packages/sklearn/model_selection/_search.py:841: DeprecationWarning: The default of the `iid` parameter will change from True to False in version 0.22 and will be removed in 0.24. This will change numeric results when test-set sizes are unequal.\n",
      "  DeprecationWarning)\n"
     ]
    },
    {
     "data": {
      "text/plain": [
       "GridSearchCV(cv=5, error_score='raise-deprecating',\n",
       "       estimator=RandomForestClassifier(bootstrap=True, class_weight=None, criterion='gini',\n",
       "            max_depth=None, max_features='auto', max_leaf_nodes=None,\n",
       "            min_impurity_decrease=0.0, min_impurity_split=None,\n",
       "            min_samples_leaf=1, min_samples_split=2,\n",
       "            min_weight_fraction_leaf=0.0, n_estimators=10, n_jobs=None,\n",
       "            oob_score=False, random_state=42, verbose=0, warm_start=False),\n",
       "       fit_params=None, iid='warn', n_jobs=None,\n",
       "       param_grid={'max_depth': [3, 5, 10, 15], 'min_samples_leaf': [1, 3, 4], 'min_samples_split': [5, 10, 15], 'n_estimators': [50, 100]},\n",
       "       pre_dispatch='2*n_jobs', refit=True, return_train_score='warn',\n",
       "       scoring=None, verbose=0)"
      ]
     },
     "execution_count": 26,
     "metadata": {},
     "output_type": "execute_result"
    }
   ],
   "source": [
    "# I can try to tune the parameters to improve the accuracy\n",
    "from sklearn.model_selection  import GridSearchCV\n",
    "param_grid = {\n",
    "  \"max_depth\": [3, 5, 10, 15],\n",
    "  \"min_samples_leaf\": [1, 3, 4],\n",
    "  \"min_samples_split\": [5, 10, 15],\n",
    "  \"n_estimators\": [50, 100]\n",
    "}\n",
    "\n",
    "grid_search = GridSearchCV(estimator=rf1, param_grid=param_grid, cv = 5)\n",
    "grid_search.fit(train_X1_input, train_y)"
   ]
  },
  {
   "cell_type": "code",
   "execution_count": 27,
   "metadata": {},
   "outputs": [
    {
     "data": {
      "text/html": [
       "<div>\n",
       "<style scoped>\n",
       "    .dataframe tbody tr th:only-of-type {\n",
       "        vertical-align: middle;\n",
       "    }\n",
       "\n",
       "    .dataframe tbody tr th {\n",
       "        vertical-align: top;\n",
       "    }\n",
       "\n",
       "    .dataframe thead th {\n",
       "        text-align: right;\n",
       "    }\n",
       "</style>\n",
       "<table border=\"1\" class=\"dataframe\">\n",
       "  <thead>\n",
       "    <tr style=\"text-align: right;\">\n",
       "      <th></th>\n",
       "      <th>Feature_Importance</th>\n",
       "    </tr>\n",
       "  </thead>\n",
       "  <tbody>\n",
       "    <tr>\n",
       "      <th>Tail</th>\n",
       "      <td>0.061020</td>\n",
       "    </tr>\n",
       "    <tr>\n",
       "      <th>Wing</th>\n",
       "      <td>0.066521</td>\n",
       "    </tr>\n",
       "    <tr>\n",
       "      <th>Tarsus</th>\n",
       "      <td>0.090946</td>\n",
       "    </tr>\n",
       "    <tr>\n",
       "      <th>Bwidth</th>\n",
       "      <td>0.208665</td>\n",
       "    </tr>\n",
       "    <tr>\n",
       "      <th>Bdepth</th>\n",
       "      <td>0.239978</td>\n",
       "    </tr>\n",
       "    <tr>\n",
       "      <th>Blength</th>\n",
       "      <td>0.332870</td>\n",
       "    </tr>\n",
       "  </tbody>\n",
       "</table>\n",
       "</div>"
      ],
      "text/plain": [
       "         Feature_Importance\n",
       "Tail               0.061020\n",
       "Wing               0.066521\n",
       "Tarsus             0.090946\n",
       "Bwidth             0.208665\n",
       "Bdepth             0.239978\n",
       "Blength            0.332870"
      ]
     },
     "execution_count": 27,
     "metadata": {},
     "output_type": "execute_result"
    }
   ],
   "source": [
    "# feature importance with the best parameters\n",
    "rf1_best_estimators = grid_search.best_estimator_\n",
    "pd.DataFrame(rf1_best_estimators.feature_importances_, \n",
    "             index = list(train_X1), \n",
    "             columns=[\"Feature_Importance\"]).sort_values(by = \"Feature_Importance\")"
   ]
  },
  {
   "cell_type": "code",
   "execution_count": 28,
   "metadata": {},
   "outputs": [
    {
     "data": {
      "text/plain": [
       "0.8571428571428571"
      ]
     },
     "execution_count": 28,
     "metadata": {},
     "output_type": "execute_result"
    }
   ],
   "source": [
    "# Predict on the best estimators\n",
    "rf1_test_y = rf1_best_estimators.predict(test_X1_input)\n",
    "rf1_accuracy = accuracy_score(test_y, rf1_test_y)\n",
    "rf1_accuracy"
   ]
  },
  {
   "cell_type": "code",
   "execution_count": 29,
   "metadata": {},
   "outputs": [
    {
     "data": {
      "image/png": "[encoded data removed]",
      "text/plain": [
       "<Figure size 720x720 with 2 Axes>"
      ]
     },
     "metadata": {
      "needs_background": "light"
     },
     "output_type": "display_data"
    }
   ],
   "source": [
    "# Confusion matrix on rf1\n",
    "cm_plot(test_y, rf1_test_y)"
   ]
  },
  {
   "cell_type": "markdown",
   "metadata": {},
   "source": [
    "#### SGD model"
   ]
  },
  {
   "cell_type": "code",
   "execution_count": 30,
   "metadata": {},
   "outputs": [
    {
     "name": "stderr",
     "output_type": "stream",
     "text": [
      "/anaconda3/lib/python3.7/site-packages/sklearn/model_selection/_search.py:841: DeprecationWarning: The default of the `iid` parameter will change from True to False in version 0.22 and will be removed in 0.24. This will change numeric results when test-set sizes are unequal.\n",
      "  DeprecationWarning)\n"
     ]
    },
    {
     "data": {
      "text/plain": [
       "GridSearchCV(cv=5, error_score='raise-deprecating',\n",
       "       estimator=SGDClassifier(alpha=0.0001, average=False, class_weight=None,\n",
       "       early_stopping=False, epsilon=0.1, eta0=0.0, fit_intercept=True,\n",
       "       l1_ratio=0.15, learning_rate='optimal', loss='hinge', max_iter=None,\n",
       "       n_iter=None, n_iter_no_change=5, n_jobs=None, penalty='l2',\n",
       "       power_t=0.5, random_state=42, shuffle=True, tol=None,\n",
       "       validation_fraction=0.1, verbose=0, warm_start=False),\n",
       "       fit_params=None, iid='warn', n_jobs=None,\n",
       "       param_grid={'learning_rate': ['constant', 'optimal', 'invscaling', 'adaptive'], 'eta0': [0.0001], 'alpha': [0.05, 0.1, 0.2], 'max_iter': [3000, 5000]},\n",
       "       pre_dispatch='2*n_jobs', refit=True, return_train_score='warn',\n",
       "       scoring=None, verbose=0)"
      ]
     },
     "execution_count": 30,
     "metadata": {},
     "output_type": "execute_result"
    }
   ],
   "source": [
    "# SGD classifier\n",
    "from sklearn.linear_model import SGDClassifier\n",
    "sgd = SGDClassifier(random_state=42, shuffle=True)\n",
    "# find the best parameters\n",
    "param_grid = {\n",
    "  \"learning_rate\": [\"constant\",\"optimal\", \"invscaling\", \"adaptive\"],\n",
    "  \"eta0\": [0.0001],\n",
    "  \"alpha\": [0.05, 0.1,0.2],\n",
    "  \"max_iter\": [3000, 5000]\n",
    "}\n",
    "\n",
    "grid_search = GridSearchCV(estimator=sgd, param_grid=param_grid, cv = 5)\n",
    "grid_search.fit(train_X1_input, train_y)"
   ]
  },
  {
   "cell_type": "code",
   "execution_count": 31,
   "metadata": {},
   "outputs": [
    {
     "data": {
      "text/plain": [
       "0.6326530612244898"
      ]
     },
     "execution_count": 31,
     "metadata": {},
     "output_type": "execute_result"
    }
   ],
   "source": [
    "best_sgd = grid_search.best_estimator_\n",
    "cross_val_score(best_sgd, train_X1_input, train_y, cv = 5, scoring=\"accuracy\")\n",
    "sgd_test_y = best_sgd.predict(test_X1_input)\n",
    "sgd_accuracy = accuracy_score(test_y, sgd_test_y)\n",
    "sgd_accuracy"
   ]
  },
  {
   "cell_type": "markdown",
   "metadata": {},
   "source": [
    "#### SVM model\n",
    "\n",
    "The SGD classifier cannot make the classification better than Random Forest. The reason could be due to the small training data size or I haven't achieve the optimal hyperparameters (It is very difficult to tune SGD optimizer)."
   ]
  },
  {
   "cell_type": "code",
   "execution_count": 32,
   "metadata": {},
   "outputs": [
    {
     "name": "stderr",
     "output_type": "stream",
     "text": [
      "/anaconda3/lib/python3.7/site-packages/sklearn/model_selection/_search.py:841: DeprecationWarning: The default of the `iid` parameter will change from True to False in version 0.22 and will be removed in 0.24. This will change numeric results when test-set sizes are unequal.\n",
      "  DeprecationWarning)\n"
     ]
    },
    {
     "data": {
      "text/plain": [
       "GridSearchCV(cv=5, error_score='raise-deprecating',\n",
       "       estimator=SVC(C=1.0, cache_size=200, class_weight=None, coef0=0.0,\n",
       "  decision_function_shape='ovr', degree=3, gamma='auto_deprecated',\n",
       "  kernel='rbf', max_iter=-1, probability=False, random_state=42,\n",
       "  shrinking=True, tol=0.001, verbose=False),\n",
       "       fit_params=None, iid='warn', n_jobs=None,\n",
       "       param_grid={'C': [5000, 10000, 20000], 'degree': [0, 1, 2, 3], 'kernel': ['rbf', 'poly', 'linear']},\n",
       "       pre_dispatch='2*n_jobs', refit=True, return_train_score='warn',\n",
       "       scoring=None, verbose=0)"
      ]
     },
     "execution_count": 32,
     "metadata": {},
     "output_type": "execute_result"
    }
   ],
   "source": [
    "# SVC\n",
    "from sklearn.svm import SVC\n",
    "svc = SVC(random_state=42)\n",
    "# find the best parameters\n",
    "param_grid = {\n",
    "  \"C\": [5000, 10000, 20000],\n",
    "  \"degree\": [0, 1, 2, 3],\n",
    "  \"kernel\": [\"rbf\", \"poly\", \"linear\"]\n",
    "}\n",
    "\n",
    "grid_search = GridSearchCV(estimator=svc, param_grid=param_grid, cv = 5)\n",
    "grid_search.fit(train_X1_input, train_y)"
   ]
  },
  {
   "cell_type": "code",
   "execution_count": 33,
   "metadata": {},
   "outputs": [
    {
     "data": {
      "text/plain": [
       "0.8367346938775511"
      ]
     },
     "execution_count": 33,
     "metadata": {},
     "output_type": "execute_result"
    }
   ],
   "source": [
    "# predict on the best parameters\n",
    "best_svc = grid_search.best_estimator_\n",
    "best_svc\n",
    "cross_val_score(best_svc, train_X1_input, train_y, cv = 5, scoring=\"accuracy\")\n",
    "svc_test_y = best_svc.predict(test_X1_input)\n",
    "svc_accuracy = accuracy_score(test_y, svc_test_y)\n",
    "svc_accuracy"
   ]
  },
  {
   "cell_type": "code",
   "execution_count": 34,
   "metadata": {},
   "outputs": [
    {
     "data": {
      "image/png": "[encoded data removed]",
      "text/plain": [
       "<Figure size 720x720 with 2 Axes>"
      ]
     },
     "metadata": {
      "needs_background": "light"
     },
     "output_type": "display_data"
    }
   ],
   "source": [
    "# Confusion matrix for SVC with rbf kernel\n",
    "cm_plot(test_y, svc_test_y)"
   ]
  },
  {
   "cell_type": "markdown",
   "metadata": {},
   "source": [
    "### Conclusion\n",
    "I used seven features including six morphological measurements and sampling island to investigate whether species in Geospiza genus could be distinguished. I tried Decision Tree and Random Forest models, and their accuracies can reach 82% and 97%, respectively. The species that has the highest classification error is G.conirostris, which has ~ 40% chance to be identified as G. fortis. A very critical feature in this classification is the island where the species resides, because most species only habit on limited islands. Since the accuracy is good enough, so I didn't bother with tuning the model or trying more complex models.\n",
    "\n",
    "However, the accuracy cannot reach that high if I drop the island information. which means that multiple species have similar morphology. The most similar species are G. acutirostris and F. fuliginosa. The best model on the classification without island information is still the Random Forest. The three most important features this time become beak length, beak depth and beak width, which fits perfectly with our knowledge about the most pronounced phenotypes in Darwin's finches.\n",
    "\n",
    "This classification is only done on less than 500 male birds within Geospiza genus. It would be nice to have more training data from different genera. "
   ]
  },
  {
   "cell_type": "markdown",
   "metadata": {},
   "source": [
    "### Application\n",
    "* If you want to make a classfication on an unknown species, please run the following code after implementing the code above  \n",
    "* Change the phenotypic measures for your own sample; Island information is optional  \n",
    "* So far no NaN input is allowed\n"
   ]
  },
  {
   "cell_type": "code",
   "execution_count": 36,
   "metadata": {},
   "outputs": [
    {
     "name": "stdout",
     "output_type": "stream",
     "text": [
      "76.7 48.0 14.07 12.37 10.97 21.3 None\n",
      "['G. fortis']\n"
     ]
    }
   ],
   "source": [
    "# Predict the species of an unknown sample\n",
    "# given the corresponding morphological measures\n",
    "#Island = \"Espanola\"\n",
    "Wing = 76.7\n",
    "Tail = 48.0\n",
    "Blength = 14.07\n",
    "Bdepth = 12.37\n",
    "Bwidth = 10.97\n",
    "Tarsus = 21.3\n",
    "\n",
    "# Function to make the prediction\n",
    "def my_sample_prediction(Wing, Tail, Blength, Bdepth, Bwidth, Tarsus, Island = None):\n",
    "  if Island is not None:\n",
    "    my_data = { \n",
    "                \"Island\": Island,\n",
    "               \"Wing\": Wing, \n",
    "                \"Tail\": Tail, \n",
    "               \"Blength\": Blength, \n",
    "               \"Bdepth\": Bdepth, \n",
    "               \"Bwidth\": Bwidth, \n",
    "               \"Tarsus\": Tarsus}\n",
    "    my_sample = pd.DataFrame(my_data, index = [0])\n",
    "    my_sample = pipeline.transform(my_sample)\n",
    "    rf_my_sample = rf.predict(my_sample)\n",
    "    print(Wing, Tail, Blength, Bdepth, Bwidth, Tarsus, Island)\n",
    "    print(rf_my_sample)\n",
    "  else:\n",
    "    my_data = { \n",
    "               \"Wing\": Wing, \n",
    "                \"Tail\": Tail, \n",
    "               \"Blength\": Blength, \n",
    "               \"Bdepth\": Bdepth, \n",
    "               \"Bwidth\": Bwidth, \n",
    "               \"Tarsus\": Tarsus}\n",
    "    my_sample = pd.DataFrame(my_data, index = [0])\n",
    "    my_sample = pipeline1.transform(my_sample)\n",
    "    rf1_my_sample = rf1_best_estimators.predict(my_sample)\n",
    "    print(Wing, Tail, Blength, Bdepth, Bwidth, Tarsus, Island)\n",
    "    print(rf1_my_sample)\n",
    "\n",
    "my_sample_prediction(Wing, Tail, Blength, Bdepth, Bwidth, Tarsus)"
   ]
  }
 ],
 "metadata": {
  "kernelspec": {
   "display_name": "Python 3",
   "language": "python",
   "name": "python3"
  },
  "language_info": {
   "codemirror_mode": {
    "name": "ipython",
    "version": 3
   },
   "file_extension": ".py",
   "mimetype": "text/x-python",
   "name": "python",
   "nbconvert_exporter": "python",
   "pygments_lexer": "ipython3",
   "version": "3.7.1"
  }
 },
 "nbformat": 4,
 "nbformat_minor": 2
}
